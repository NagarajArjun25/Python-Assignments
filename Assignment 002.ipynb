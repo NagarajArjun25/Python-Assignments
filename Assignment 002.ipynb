{
 "cells": [
  {
   "cell_type": "code",
   "execution_count": null,
   "id": "432fdf80-4665-4bbf-a822-28735787f8d5",
   "metadata": {},
   "outputs": [],
   "source": [
    "1.What are the two values of the Boolean data type? How do you write them?\n",
    "\n",
    "True -Any value except 0\n",
    "\n",
    "False- -0"
   ]
  },
  {
   "cell_type": "code",
   "execution_count": null,
   "id": "f6d2f487-a796-47af-99c1-b083593f318a",
   "metadata": {},
   "outputs": [],
   "source": [
    "2. What are the three different types of Boolean operators?\n",
    "    not - unary negotiation\n",
    "\n",
    "    and - conditional AND\n",
    "\n",
    "    or - conditional OR"
   ]
  },
  {
   "cell_type": "code",
   "execution_count": null,
   "id": "81feb1e1-ac54-42ea-88e1-d81563bbb7b7",
   "metadata": {},
   "outputs": [],
   "source": [
    "3. Make a list of each Boolean operator's truth tables (i.e. every possible combination of Boolean values for the operator and what it evaluate ).\n",
    "\n",
    "    (i) not:\n",
    "\n",
    "    input - output\n",
    "\n",
    "    true - false\n",
    "\n",
    "    false - true\n",
    "\n",
    "    (ii) and:\n",
    "\n",
    "    input1 - input2 - output\n",
    "\n",
    "    true - true - true\n",
    "\n",
    "    true - false - false\n",
    "\n",
    "    false - true - false\n",
    "\n",
    "    false - false - false\n",
    "\n",
    "    (iii)or:\n",
    "\n",
    "    input1 - input2 - ouput\n",
    "\n",
    "    true - true - true\n",
    "\n",
    "    true - false - true\n",
    "\n",
    "    false - true - true\n",
    "\n",
    "    false - false - false"
   ]
  },
  {
   "cell_type": "code",
   "execution_count": null,
   "id": "a54827c3-6e87-4908-bada-c61a5bc43917",
   "metadata": {},
   "outputs": [],
   "source": [
    "4. What are the values of the following expressions?\n",
    "    (5 > 4) and (3 == 5) - False\n",
    "\n",
    "    not (5 > 4) - False\n",
    "\n",
    "    (5 > 4) or (3 == 5) - True\n",
    "\n",
    "    not ((5 > 4) or (3 == 5)) - False\n",
    "\n",
    "    (True and True) and (True == False) - False\n",
    "\n",
    "    (not False) or (not True) - True"
   ]
  },
  {
   "cell_type": "code",
   "execution_count": 2,
   "id": "711ce6ae-ada8-442d-aec6-307a2ce8b51a",
   "metadata": {},
   "outputs": [
    {
     "name": "stdout",
     "output_type": "stream",
     "text": [
      "False\n",
      "False\n",
      "True\n",
      "False\n",
      "False\n",
      "True\n"
     ]
    }
   ],
   "source": [
    "res1 = (5>4) and (3==5)\n",
    "print(res1) \n",
    "\n",
    "res2 = not(5>4)\n",
    "print(res2)\n",
    "\n",
    "res3 = (5 > 4) or (3 == 5)\n",
    "print(res3)\n",
    "\n",
    "res4 = not ((5 > 4) or (3 == 5))\n",
    "print(res4)\n",
    "\n",
    "res5 = (True and True) and (True == False)\n",
    "print(res5)\n",
    "\n",
    "res6 = (not False) or (not True)\n",
    "print(res6)"
   ]
  },
  {
   "cell_type": "code",
   "execution_count": null,
   "id": "acaf5d47-07b4-40d1-a3e2-168d994f41d1",
   "metadata": {},
   "outputs": [],
   "source": [
    "5. What are the six comparison operators?\n",
    "    Less than operator ( < )\n",
    "\n",
    "    Less than or equal to operator ( <= )\n",
    "\n",
    "    Greater than operator ( > )\n",
    "\n",
    "    Greater than or equal to operator ( >= )\n",
    "\n",
    "    Equal to operator ( == )\n",
    "\n",
    "    Not Equal to operator ( != )"
   ]
  },
  {
   "cell_type": "markdown",
   "id": "b962e9eb-2bf6-43db-a180-0fdf81653bff",
   "metadata": {},
   "source": [
    "6. How do you tell the difference between the equal to and assignment operators?Describe a condition and when you would use one.\n",
    "Equal to :\n",
    "\n",
    "Equal to ( == ) operator used to compare if both the variables are having the same value or not.\n",
    "\n",
    "Assignment operator :\n",
    "\n",
    "Assignment ( = ) operator is used to assign a value or the result of some operation to a variable."
   ]
  },
  {
   "cell_type": "code",
   "execution_count": 3,
   "id": "d84a29b0-f099-4cf4-b7a0-284ad40151b8",
   "metadata": {},
   "outputs": [
    {
     "data": {
      "text/plain": [
       "True"
      ]
     },
     "execution_count": 3,
     "metadata": {},
     "output_type": "execute_result"
    }
   ],
   "source": [
    "\n",
    "#Equal To Operator\n",
    "a = 3.5\n",
    "b = 3.5\n",
    "\n",
    "a == b"
   ]
  },
  {
   "cell_type": "code",
   "execution_count": 4,
   "id": "75a57bc9-e8f3-491a-a9c8-0b57ee84bdce",
   "metadata": {},
   "outputs": [
    {
     "name": "stdout",
     "output_type": "stream",
     "text": [
      "7.0\n"
     ]
    }
   ],
   "source": [
    "\n",
    "#Assignment Operator\n",
    "a = 3.5  # Assigining a value 3.5 to variable a\n",
    "b = 3.5  # Assigining a value 3.5 to variable b\n",
    "\n",
    "c = a + b # Assinging the result of a +b to a variable c\n",
    "print(c)"
   ]
  },
  {
   "cell_type": "code",
   "execution_count": null,
   "id": "716df602-56fe-4e14-a463-e49517a4044a",
   "metadata": {},
   "outputs": [],
   "source": [
    "7. Identify the three blocks in this code:\n",
    "spam = 0\n",
    "\n",
    "if spam == 10:\n",
    "\n",
    "print('eggs')\n",
    "\n",
    "if spam > 5:\n",
    "\n",
    "print('bacon')\n",
    "\n",
    "else:\n",
    "\n",
    "print('ham')\n",
    "\n",
    "print('spam')\n",
    "\n",
    "print('spam')"
   ]
  },
  {
   "cell_type": "code",
   "execution_count": 5,
   "id": "45e1a388-1c79-40c0-ba1b-40fd6911409c",
   "metadata": {},
   "outputs": [
    {
     "name": "stdout",
     "output_type": "stream",
     "text": [
      "ham\n",
      "spam\n",
      "spam\n"
     ]
    }
   ],
   "source": [
    "\n",
    "spam = 0\n",
    "if spam == 10:   #This condition will check if the value of the variable 'spam' is 10 or not. In this case, the condition will fail.\n",
    "  print('eggs')  #This statement will not be exeucted as the if condition fails.\n",
    "if spam > 5:     #This condition will fail as 0 is not greater than 5\n",
    "  print('bacon') #This statement will not be executed as the if condition fails.\n",
    "else:            #This else block will be executed as it does not fulfill any other if conditions.\n",
    "  print('ham')\n",
    "  print('spam')\n",
    "  print('spam')"
   ]
  },
  {
   "cell_type": "code",
   "execution_count": null,
   "id": "7f118dac-78a0-44b3-b5f1-8d2d9abbcbd4",
   "metadata": {},
   "outputs": [],
   "source": [
    "8. Write code that prints Hello if 1 is stored in spam, prints Howdy if 2 is stored in spam, and prints Greetings! if anything else is stored in spam."
   ]
  },
  {
   "cell_type": "code",
   "execution_count": 6,
   "id": "aebd4f64-2c31-4366-85e6-760a3b9ac02d",
   "metadata": {},
   "outputs": [
    {
     "name": "stdout",
     "output_type": "stream",
     "text": [
      "Hello\n"
     ]
    }
   ],
   "source": [
    "\n",
    "spam = 1\n",
    "\n",
    "if spam == 1:\n",
    "  print(\"Hello\")\n",
    "elif spam == 2:\n",
    "  print(\"Howdy\")\n",
    "else:\n",
    "  print(\"Greetings\")"
   ]
  },
  {
   "cell_type": "code",
   "execution_count": null,
   "id": "dfc4693c-9010-40f3-9b59-33bf0f7b2207",
   "metadata": {},
   "outputs": [],
   "source": [
    "9. 9.If your programme is stuck in an endless loop, what keys you’ll press?\n",
    "\n",
    "By pressing Ctrl + C, we can break out the endless loop in Python."
   ]
  },
  {
   "cell_type": "code",
   "execution_count": null,
   "id": "b2054875-7be3-442a-84d4-9998e2e681b8",
   "metadata": {},
   "outputs": [],
   "source": [
    "10. How can you tell the difference between break and continue?\n",
    "\n",
    "Break:\n",
    "\n",
    "Break statement terminates the execution of the current loop and passes the control over the next loop or main body.\n",
    "\n",
    "Continue:\n",
    "\n",
    "Continue statement skips the current iteration and executes the very next iteration in the loop."
   ]
  },
  {
   "cell_type": "code",
   "execution_count": null,
   "id": "829e97bc-e761-4fd8-b406-a1673ddbf50f",
   "metadata": {},
   "outputs": [],
   "source": [
    "11. In a for loop, what is the difference between range(10), range(0, 10), and range(0, 10, 1)?\n",
    "\n",
    "range (10) :\n",
    "\n",
    "This statement will indicate the list of items of a sequence of length 10.\n",
    "\n",
    "range (0,10) :\n",
    "\n",
    "This statement will indicate the values starting from 0 to 10.\n",
    "\n",
    "range (0,10,1):\n",
    "\n",
    "This statement will indicate the value will start from 0 to 10 increased by the step number mentioned as 1 in the condition."
   ]
  },
  {
   "cell_type": "code",
   "execution_count": null,
   "id": "c861b71a-afd0-4105-8d72-366b70aeb10b",
   "metadata": {},
   "outputs": [],
   "source": [
    "Write a short program that prints the numbers 1 to 10 using a for loop. Then write an equivalent program that prints the numbers 1 to 10 using a while loop."
   ]
  },
  {
   "cell_type": "code",
   "execution_count": 8,
   "id": "fde54a79-5dda-4277-8055-4ad4b0e078e8",
   "metadata": {},
   "outputs": [
    {
     "name": "stdout",
     "output_type": "stream",
     "text": [
      "1\n",
      "2\n",
      "3\n",
      "4\n",
      "5\n",
      "6\n",
      "7\n",
      "8\n",
      "9\n",
      "10\n"
     ]
    }
   ],
   "source": [
    "\n",
    "#Printing numbers 1 to 10 using for loop\n",
    "for i in range(1,11):\n",
    "  print(i)"
   ]
  },
  {
   "cell_type": "code",
   "execution_count": 9,
   "id": "0c96a394-144d-426a-8fc2-f0e657c599de",
   "metadata": {},
   "outputs": [
    {
     "name": "stdout",
     "output_type": "stream",
     "text": [
      "1\n",
      "2\n",
      "3\n",
      "4\n",
      "5\n",
      "6\n",
      "7\n",
      "8\n",
      "9\n",
      "10\n"
     ]
    }
   ],
   "source": [
    "\n",
    "#printing numbers 1 to 10 using while loop\n",
    "i = 1\n",
    "while(i<=10):\n",
    "    print(i)\n",
    "    i += 1"
   ]
  },
  {
   "cell_type": "code",
   "execution_count": null,
   "id": "27dae502-b0b0-4418-a8ad-2645fa787386",
   "metadata": {},
   "outputs": [],
   "source": [
    "13. If you had a function named bacon() inside a module named spam, how would you call it after importing spam?\n",
    "By using a dot(.) operator we can call any functions inside a package/ module after importing them into the code.\n",
    "\n",
    "spam.module()"
   ]
  }
 ],
 "metadata": {
  "kernelspec": {
   "display_name": "Python 3 (ipykernel)",
   "language": "python",
   "name": "python3"
  },
  "language_info": {
   "codemirror_mode": {
    "name": "ipython",
    "version": 3
   },
   "file_extension": ".py",
   "mimetype": "text/x-python",
   "name": "python",
   "nbconvert_exporter": "python",
   "pygments_lexer": "ipython3",
   "version": "3.10.6"
  }
 },
 "nbformat": 4,
 "nbformat_minor": 5
}
