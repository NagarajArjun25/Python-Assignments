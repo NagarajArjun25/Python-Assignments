{
 "cells": [
  {
   "cell_type": "code",
   "execution_count": null,
   "id": "895f66dc-7ba1-4c2c-bcd8-5ce28e1c0578",
   "metadata": {},
   "outputs": [],
   "source": [
    "1. In the below elements which of them are values or an expression? eg:- values can be\n",
    "integer or string and expressions will be mathematical operators.\n",
    "*\n",
    "&#39;hello&#39;\n",
    "-87.8\n",
    "-\n",
    "/\n",
    "+\n",
    "6\n",
    "\n",
    "It is an arithmetic operator used for multiplication (*). - Expression\n",
    "It is a string value ('hello'). - Value\n",
    "It is an arithmetic operator used for subration (-). - Expression\n",
    "It is an arithmetic operator used for division (/). - Expression\n",
    "It is an arithmetic operator used for addition (+). - Expression\n",
    "It is an integer value. - Value"
   ]
  },
  {
   "cell_type": "code",
   "execution_count": null,
   "id": "3a387590-f87f-4a69-a1b2-4c69b3029f6b",
   "metadata": {},
   "outputs": [],
   "source": [
    "2. What is the difference between string and variable?\n",
    "String is one of the data types supported by python to share the list of characters within double quotes or single quotes.\n",
    "\n",
    "Example: str1 = \"Nagaraj\"\n",
    "\n",
    "Variables in Python are used to store the values in it.\n",
    "\n",
    "Example: value1 = 20\n",
    "\n",
    "Here value1 is a variable used to store the integer value of 20."
   ]
  },
  {
   "cell_type": "code",
   "execution_count": null,
   "id": "3f09b230-947c-4af6-a7dd-6d03c3d6570b",
   "metadata": {},
   "outputs": [],
   "source": [
    "3. Describe three different data types.\n",
    "int - This data type is used to store all the non decimal values.\n",
    "float - This data type is used to store the numbers which are containing decimal values.\n",
    "boolean - This data type is storing the value either it is true or false"
   ]
  },
  {
   "cell_type": "code",
   "execution_count": null,
   "id": "b96b9fd0-3588-4b67-aaca-558de7d477ab",
   "metadata": {},
   "outputs": [],
   "source": [
    "4. What is an expression made up of? What do all expressions do?\n",
    "An expression in python is made up of operators, operands, parantheses, functions and statements.\n",
    "\n",
    "These expressions are interpreted to produce the desired output.\n",
    "\n",
    "Expression is evaluated as per the precedence of the operators.\n",
    "\n",
    "If there are more than one operators, their precedence decides which operation will be performed first (BODMOS rule)"
   ]
  },
  {
   "cell_type": "code",
   "execution_count": null,
   "id": "4cc714a3-b6a0-4c2a-ba76-d14110ce8849",
   "metadata": {},
   "outputs": [],
   "source": [
    "5. This assignment statements, like spam = 10. What is the difference between an expression and a statement?\n",
    "Expression:\n",
    "\n",
    "Expression in Python are defined as collection of operators and operands and are expected to produce \n",
    "some desired output atleast one value.\n",
    "\n",
    "Example : a+2\n",
    "\n",
    "Statement:\n",
    "\n",
    "Statements are expected to perform operations.\n",
    "\n",
    "Example : y = x+1"
   ]
  },
  {
   "cell_type": "code",
   "execution_count": null,
   "id": "4937afdc-72c8-463f-8cb8-73a5eb57debb",
   "metadata": {},
   "outputs": [],
   "source": [
    "6. After running the following code, what does the variable bacon contain?\n",
    "bacon = 22\n",
    "\n",
    "bacon + 1\n",
    "\n",
    "The variable bacon still contains the value of 22. We are incrementing the value of bacon by 1 in the next statement but we are not assigning the result to the variable. Hence the value would be 22"
   ]
  },
  {
   "cell_type": "code",
   "execution_count": null,
   "id": "90a9a2b7-e19b-4f2c-b59a-cbb200598256",
   "metadata": {},
   "outputs": [],
   "source": [
    "\n",
    "7. What should the values of the following two terms be?\n",
    "'spam' + 'spamspam'\n",
    "\n",
    "'spam' * 3\n",
    "Both output would be same. output: spamspamspam"
   ]
  },
  {
   "cell_type": "code",
   "execution_count": null,
   "id": "422aef02-622a-40f9-a86c-5d8a70e29d3f",
   "metadata": {},
   "outputs": [],
   "source": [
    "8. Why is eggs a valid variable name while 100 is invalid?\n",
    "As per the standard rules of python, a variable name cannot start with the number. In this case, when we are assigning any value to the variable '100', it is actually trying to change the value of the number and that is not acceptable. We will be getting a syntax error if we use '100' as a variable name."
   ]
  },
  {
   "cell_type": "code",
   "execution_count": null,
   "id": "5d423e22-c40e-4732-8784-2cb17a919086",
   "metadata": {},
   "outputs": [],
   "source": [
    "9. What three functions can be used to get the integer, floating-point number, or string version of a value?"
   ]
  },
  {
   "cell_type": "code",
   "execution_count": 9,
   "id": "20eea545-66c6-435f-a119-c364854a3c92",
   "metadata": {},
   "outputs": [
    {
     "name": "stdout",
     "output_type": "stream",
     "text": [
      "<class 'str'> 20\n",
      "<class 'int'> 20\n"
     ]
    }
   ],
   "source": [
    "value1 = \"20\" \n",
    "print(type(value1), value1)\n",
    "\n",
    "value2 = int(value1)\n",
    "print(type(value2), value2)"
   ]
  },
  {
   "cell_type": "code",
   "execution_count": 10,
   "id": "530be68a-4ee4-45ed-b7e4-a526d41ec48d",
   "metadata": {},
   "outputs": [
    {
     "name": "stdout",
     "output_type": "stream",
     "text": [
      "<class 'int'> 30\n",
      "<class 'float'> 30.0\n"
     ]
    }
   ],
   "source": [
    "value3 = 30\n",
    "print(type(value3), value3)\n",
    "\n",
    "value4 = float(value3)\n",
    "print(type(value4), value4)"
   ]
  },
  {
   "cell_type": "code",
   "execution_count": 11,
   "id": "6957a57d-a238-4e0f-ad93-6be07ef0dc93",
   "metadata": {},
   "outputs": [
    {
     "name": "stdout",
     "output_type": "stream",
     "text": [
      "<class 'int'> 25\n",
      "<class 'str'> 25\n"
     ]
    }
   ],
   "source": [
    "value5 = 25\n",
    "print(type(value5), value5)\n",
    "\n",
    "value6 = str(value5)\n",
    "print(type(value6), value6)"
   ]
  },
  {
   "cell_type": "code",
   "execution_count": null,
   "id": "4805c5a1-da7e-409c-a46d-df52c89c4e2e",
   "metadata": {},
   "outputs": [],
   "source": [
    "10. Why does this expression cause an error? How can you fix it?\n",
    "\n",
    "'I have eaten ' + 99 + ' burritos.'\n",
    "\n",
    "We will be getting a typeError when we are performing operations of different data types. We can store the value '99' as string and then we can concatenate them.\n",
    "\n"
   ]
  },
  {
   "cell_type": "code",
   "execution_count": 12,
   "id": "e1352ca9-9005-4e57-90d7-ba62ed3507be",
   "metadata": {},
   "outputs": [
    {
     "name": "stdout",
     "output_type": "stream",
     "text": [
      "I have eaten 99 burritos\n"
     ]
    }
   ],
   "source": [
    "value1 = 'I have eaten '\n",
    "value2 = '99 '\n",
    "value3 = 'burritos'\n",
    "\n",
    "value4 = value1  + value2  + value3\n",
    "print(value4)\n"
   ]
  },
  {
   "cell_type": "code",
   "execution_count": null,
   "id": "5e09f675-e6f6-4215-a299-50cbcd11c847",
   "metadata": {},
   "outputs": [],
   "source": []
  }
 ],
 "metadata": {
  "kernelspec": {
   "display_name": "Python 3 (ipykernel)",
   "language": "python",
   "name": "python3"
  },
  "language_info": {
   "codemirror_mode": {
    "name": "ipython",
    "version": 3
   },
   "file_extension": ".py",
   "mimetype": "text/x-python",
   "name": "python",
   "nbconvert_exporter": "python",
   "pygments_lexer": "ipython3",
   "version": "3.10.6"
  }
 },
 "nbformat": 4,
 "nbformat_minor": 5
}
