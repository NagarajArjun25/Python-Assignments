{
 "cells": [
  {
   "cell_type": "code",
   "execution_count": null,
   "id": "79a7e17e-5fa4-4f26-ae6d-814261752334",
   "metadata": {},
   "outputs": [],
   "source": [
    "1. Why are functions advantageous to have in your programs?\n",
    "The functions in python makes the program more readable. The main purpose of the function is to achieve the reusability. If we want to execute couple of statements in a program, we can keep those statements inside a function and we can call the function whenever we want to perform the same set of operations. Functions keep the program structured, understandable and reusable."
   ]
  },
  {
   "cell_type": "code",
   "execution_count": null,
   "id": "4a7faef9-34cc-4334-aa79-c2f929b81bcd",
   "metadata": {},
   "outputs": [],
   "source": [
    "When does the code in a function run: when it's specified or when it's called?\n",
    "The codes which are specified inside a run() function will be executed only when it is called."
   ]
  },
  {
   "cell_type": "code",
   "execution_count": null,
   "id": "f014da90-adc2-4b94-866a-563dc499888d",
   "metadata": {},
   "outputs": [],
   "source": [
    "3. What statement creates a function?\n",
    "Function in python can be created by starting with the keyword 'def' followed by the name of the function and a set of paranthesis which can hold any parameters which need to be passed while calling the function. It is not mandatory that all the functions should have the parameters. Finally the function declaration ends with a colon (:)\n",
    "\n",
    "Example : def addValues(a,b):"
   ]
  },
  {
   "cell_type": "code",
   "execution_count": null,
   "id": "059f61e0-7ce5-465e-9af2-2f056cad3489",
   "metadata": {},
   "outputs": [],
   "source": [
    "4. What is the difference between a function and a function call?\n",
    "Function:\n",
    "\n",
    "Function is a set of code that performs a particular operation and provides a result. It accepts inputs as parameters and returns as a result."
   ]
  },
  {
   "cell_type": "code",
   "execution_count": null,
   "id": "12c8d987-becf-4a7d-a5e5-c3b0b9068314",
   "metadata": {},
   "outputs": [],
   "source": [
    "def addValues(a,b):\n",
    "  return a + b"
   ]
  },
  {
   "cell_type": "code",
   "execution_count": null,
   "id": "eff5f682-5973-4566-b8a9-1fb32c067f0a",
   "metadata": {},
   "outputs": [],
   "source": [
    "Function call:\n",
    "\n",
    "It is used to execute the set of statements defined inside a function body. It usually pass the control to a function."
   ]
  },
  {
   "cell_type": "code",
   "execution_count": null,
   "id": "181dc62d-27d2-4fea-b136-249fa6b6bbef",
   "metadata": {},
   "outputs": [],
   "source": [
    "5. How many global scopes are there in a Python program? How many local scopes?\n",
    "Global scopes:\n",
    "\n",
    "Variables which are defined outside a function body are having global scopes. There will be only one global scope for the entire program. It remains exist until the program ends.\n",
    "\n",
    "Local scopes:\n",
    "\n",
    "Variables which are defined inside a function body are having local scopes. At any time of program execution, we will have four python scopes.\n",
    "\n",
    "local\n",
    "enclosing\n",
    "global\n",
    "built in"
   ]
  },
  {
   "cell_type": "code",
   "execution_count": null,
   "id": "80c595c6-a735-4b5e-a0e4-cef63404e572",
   "metadata": {},
   "outputs": [],
   "source": [
    "6. What happens to variables in a local scope when the function call returns?\n",
    "The variables which are defined inside a function body are said to be having local scopes and these will be destroyed once the execution of function completes."
   ]
  },
  {
   "cell_type": "code",
   "execution_count": null,
   "id": "6e34a118-e7b6-4001-9001-7b143469ced4",
   "metadata": {},
   "outputs": [],
   "source": [
    "7. What is the concept of a return value? Is it possible to have a return value in an expression?\n",
    "The value that the function returns to the caller of the function is called as return value. Any python function will have a return value by default. If we don't use the return statement explicitly, python will implicitly return a default value of None."
   ]
  },
  {
   "cell_type": "code",
   "execution_count": null,
   "id": "4dd8f490-5818-4fd8-ba98-d12bd7d03b2a",
   "metadata": {},
   "outputs": [],
   "source": [
    "8. If a function does not have a return statement, what is the return value of a call to that function?\n",
    "If we didnt specify the return statement inside a function body, python will return a default value of None."
   ]
  },
  {
   "cell_type": "code",
   "execution_count": null,
   "id": "c42eef9a-acd6-4191-8a21-c9aa1a0c3731",
   "metadata": {},
   "outputs": [],
   "source": [
    "9. How do you make a function variable refer to the global variable?\n",
    "When we create a variable inside a function, this variable is local and can only be used inside a function. To make this local variable to global variable, we need to use the keyword 'global' before the function name."
   ]
  },
  {
   "cell_type": "code",
   "execution_count": null,
   "id": "c5c3cdeb-4276-4fcb-bf04-50531cf6e700",
   "metadata": {},
   "outputs": [],
   "source": [
    "10. What is the data type of None?\n",
    "None is the dataype of its own (NoneType)"
   ]
  },
  {
   "cell_type": "code",
   "execution_count": null,
   "id": "f5393767-8531-4de9-87d8-bb46e7a94c65",
   "metadata": {},
   "outputs": [],
   "source": [
    "11. What does the sentence import areallyourpetsnamederic do?\n",
    "import areallyourpetsnamederic\n",
    "\n",
    "The above statement imports the module named areallyourpetsnamederic inside the python program."
   ]
  },
  {
   "cell_type": "code",
   "execution_count": null,
   "id": "99af302e-d722-4e40-a9fd-f7b8a5e45543",
   "metadata": {},
   "outputs": [],
   "source": [
    "12. If you had a bacon() feature in a spam module, what would you call it after importing spam?\n",
    "Firstly we need to import the module spam into our program. By using the dot operator (.) we can call all the features available inside the module."
   ]
  },
  {
   "cell_type": "code",
   "execution_count": null,
   "id": "78d1cf23-70f3-446c-8cc0-f6bfc44554c3",
   "metadata": {},
   "outputs": [],
   "source": [
    "import spam\n",
    "\n",
    "spam.bacon()"
   ]
  },
  {
   "cell_type": "code",
   "execution_count": null,
   "id": "bb6bf33b-d17c-4e01-adae-fc2261f35799",
   "metadata": {},
   "outputs": [],
   "source": [
    "13. What can you do to save a programme from crashing if it encounters an error?\n",
    "If an error occurs in a program, we don’t want the program to unexpectedly crash. Instead, error handling like (try-except and try-except-finally) can be used to notify the user of why the error occurred and gracefully exit the process that caused the error."
   ]
  },
  {
   "cell_type": "code",
   "execution_count": null,
   "id": "d8da6217-22be-4666-ae19-704a9ff41081",
   "metadata": {},
   "outputs": [],
   "source": [
    "14. What is the purpose of the try clause? What is the purpose of the except clause?\n",
    "Try:\n",
    "\n",
    "This try clause is used for testing the block code which may cause the errors.\n",
    "\n",
    "Except:\n",
    "\n",
    "This except clause is used for handling the errors which are identified as part of try block."
   ]
  }
 ],
 "metadata": {
  "kernelspec": {
   "display_name": "Python 3 (ipykernel)",
   "language": "python",
   "name": "python3"
  },
  "language_info": {
   "codemirror_mode": {
    "name": "ipython",
    "version": 3
   },
   "file_extension": ".py",
   "mimetype": "text/x-python",
   "name": "python",
   "nbconvert_exporter": "python",
   "pygments_lexer": "ipython3",
   "version": "3.10.6"
  }
 },
 "nbformat": 4,
 "nbformat_minor": 5
}
